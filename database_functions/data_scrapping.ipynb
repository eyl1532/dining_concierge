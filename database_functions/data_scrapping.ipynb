{
 "cells": [
  {
   "cell_type": "code",
   "execution_count": null,
   "metadata": {},
   "outputs": [],
   "source": [
    "import requests\n",
    "import json\n",
    "import os"
   ]
  },
  {
   "cell_type": "code",
   "execution_count": null,
   "metadata": {},
   "outputs": [],
   "source": [
    "api_key = os.environ[\"YELP_API_KEY\"]\n",
    "headers = {'Authorization': 'Bearer %s' % api_key}"
   ]
  },
  {
   "cell_type": "code",
   "execution_count": null,
   "metadata": {},
   "outputs": [],
   "source": [
    "url='https://api.yelp.com/v3/businesses/search'\n",
    "parameters = [{'term':'Indian Restaurants','location':'Manhattan', 'limit': 50, 'offset': 0}, \n",
    "             {'term':'Chinese Restaurants','location':'Manhattan','limit': 50, 'offset': 0}, \n",
    "              {'term':'Italian Restaurants','location':'Manhattan','limit': 50, 'offset': 0},\n",
    "             {'term':'Korean Restaurants','location':'Manhattan','limit': 50, 'offset': 0}, \n",
    "             {'term':'American Restaurants','location':'Manhattan','limit': 50, 'offset': 0},\n",
    "             {'term':'Mexican Restaurants','location':'Manhattan','limit': 50, 'offset': 0}]\n"
   ]
  },
  {
   "cell_type": "code",
   "execution_count": null,
   "metadata": {},
   "outputs": [],
   "source": [
    "data={'Indian':[], 'Chinese':[],'Italian':[],'Korean':[],'American':[],'Mexican':[]}\n",
    "for params in parameters:\n",
    "    name, _ = params['term'].split(\" \")\n",
    "    rest_data = []\n",
    "    while(params['offset']<1000):\n",
    "        req=requests.get(url, params=params, headers=headers)\n",
    "        #print(params, req.status_code)\n",
    "        if(req.status_code==200):\n",
    "            #json.loads(req.text)\n",
    "            dic = json.loads(req.text)\n",
    "            d = dic['businesses']\n",
    "            rest_data.extend(d)\n",
    "            data[name].extend(d)\n",
    "            params['offset']+=50\n",
    "\n",
    "#json.dump(unique_data, outfile)"
   ]
  },
  {
   "cell_type": "code",
   "execution_count": null,
   "metadata": {},
   "outputs": [],
   "source": [
    "for name in data:\n",
    "    data[name] = list({ each[\"id\"] : each for each in data[name]}.values())"
   ]
  },
  {
   "cell_type": "code",
   "execution_count": null,
   "metadata": {},
   "outputs": [],
   "source": [
    "print(len(data))"
   ]
  },
  {
   "cell_type": "code",
   "execution_count": null,
   "metadata": {},
   "outputs": [],
   "source": [
    "import boto3"
   ]
  },
  {
   "cell_type": "code",
   "execution_count": null,
   "metadata": {},
   "outputs": [],
   "source": [
    "dynamodb = boto3.resource('dynamodb')"
   ]
  },
  {
   "cell_type": "code",
   "execution_count": null,
   "metadata": {},
   "outputs": [],
   "source": [
    "table = dynamodb.create_table(\n",
    "    TableName='yelp-restaurants',\n",
    "    KeySchema=[\n",
    "        {\n",
    "            'AttributeName': 'business_id',\n",
    "            'KeyType': 'HASH'\n",
    "        },\n",
    "        {\n",
    "            'AttributeName': 'insertedAtTimestamp',\n",
    "            'KeyType': 'RANGE'\n",
    "        }\n",
    "    ],\n",
    "    AttributeDefinitions=[\n",
    "        {\n",
    "            'AttributeName': 'business_id',\n",
    "            'AttributeType': 'S'\n",
    "        },\n",
    "        {\n",
    "            'AttributeName': 'insertedAtTimestamp',\n",
    "            'AttributeType': 'S'\n",
    "        },\n",
    "    ],\n",
    "    ProvisionedThroughput={\n",
    "        'ReadCapacityUnits': 5,\n",
    "        'WriteCapacityUnits': 5\n",
    "    }\n",
    ")\n",
    "table.meta.client.get_waiter('table_exists').wait(TableName='yelp-restaurants')\n",
    "print(table.item_count)"
   ]
  },
  {
   "cell_type": "code",
   "execution_count": null,
   "metadata": {},
   "outputs": [],
   "source": [
    "from datetime import datetime\n",
    "from decimal import Decimal\n",
    "\n",
    "def empty_check(string):\n",
    "    if str(string)==\"\":\n",
    "        return \"na\"\n",
    "    else:\n",
    "        return str(string)\n",
    "\n",
    "restaurants = data\n",
    "hash_rest_id = dict()\n",
    "with table.batch_writer() as batch:\n",
    "    for types in restaurants:\n",
    "        rest_types = restaurants[types]\n",
    "        for rest in rest_types:\n",
    "            #print (rest)\n",
    "            business_id = rest['id']\n",
    "            if business_id in hash_rest_id:\n",
    "                continue\n",
    "            hash_rest_id[business_id]=1\n",
    "            name = empty_check(rest['name'])\n",
    "            address = empty_check(rest['location']['display_address'])\n",
    "            coordinates = empty_check(rest['coordinates'])\n",
    "            no_of_reviews = empty_check(rest['review_count'])\n",
    "            rating = empty_check(rest['rating'])\n",
    "            zip_code = empty_check(rest['location']['zip_code'])\n",
    "            \n",
    "            batch.put_item(\n",
    "                Item={'business_id':str(business_id),\n",
    "                      'insertedAtTimestamp':datetime.utcnow().isoformat(),\n",
    "                      'cuisine':str(types),\n",
    "                      'name':str(name),\n",
    "                      'address':str(address),\n",
    "                      'coordinates':str(coordinates),\n",
    "                      'no_of_reviews':str(no_of_reviews),\n",
    "                      'rating':str(rating),\n",
    "                      'zip_code':str(zip_code),\n",
    "                }\n",
    "            )"
   ]
  },
  {
   "cell_type": "code",
   "execution_count": null,
   "metadata": {},
   "outputs": [],
   "source": [
    "#table = dynamodb.Table('yelp-restaurants')\n",
    "dynamoDBClient = boto3.client('dynamodb')\n",
    "table = dynamoDBClient.describe_table(\n",
    "    TableName='yelp-restaurants'\n",
    ")\n",
    "print(table)"
   ]
  }
 ],
 "metadata": {
  "kernelspec": {
   "display_name": "Python 3",
   "language": "python",
   "name": "python3"
  },
  "language_info": {
   "codemirror_mode": {
    "name": "ipython",
    "version": 3
   },
   "file_extension": ".py",
   "mimetype": "text/x-python",
   "name": "python",
   "nbconvert_exporter": "python",
   "pygments_lexer": "ipython3",
   "version": "3.7.4"
  }
 },
 "nbformat": 4,
 "nbformat_minor": 2
}