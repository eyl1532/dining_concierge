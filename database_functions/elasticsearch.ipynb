{
 "cells": [
  {
   "cell_type": "code",
   "execution_count": 1,
   "metadata": {},
   "outputs": [],
   "source": [
    "import boto3\n",
    "from elasticsearch import Elasticsearch, RequestsHttpConnection\n",
    "from elasticsearch import helpers\n",
    "from requests_aws4auth import AWS4Auth\n",
    "import os"
   ]
  },
  {
   "cell_type": "code",
   "execution_count": 2,
   "metadata": {},
   "outputs": [],
   "source": [
    "dynamodb = boto3.resource('dynamodb')\n",
    "table = dynamodb.Table('yelp-restaurants')\n",
    "\n",
    "response = table.scan()\n",
    "restaurants = response['Items']\n",
    "\n",
    "while 'LastEvaluatedKey' in response:\n",
    "    response = table.scan(ExclusiveStartKey=response['LastEvaluatedKey'])\n",
    "    restaurants.extend(response['Items'])"
   ]
  },
  {
   "cell_type": "code",
   "execution_count": 3,
   "metadata": {},
   "outputs": [
    {
     "name": "stdout",
     "output_type": "stream",
     "text": [
      "5422\n"
     ]
    }
   ],
   "source": [
    "print(len(restaurants))"
   ]
  },
  {
   "cell_type": "code",
   "execution_count": 4,
   "metadata": {},
   "outputs": [],
   "source": [
    "rest_tuple = []\n",
    "for rest in restaurants:\n",
    "    business_id = rest['business_id']\n",
    "    cuisine = rest['cuisine']\n",
    "    rest_tuple.append([business_id,cuisine])"
   ]
  },
  {
   "cell_type": "code",
   "execution_count": 5,
   "metadata": {},
   "outputs": [
    {
     "name": "stdout",
     "output_type": "stream",
     "text": [
      "5422\n",
      "['XjeGryxde-tQZF_Ewu7NCw', 'Korean']\n"
     ]
    }
   ],
   "source": [
    "print(len(rest_tuple))\n",
    "print(rest_tuple[0])"
   ]
  },
  {
   "cell_type": "code",
   "execution_count": 27,
   "metadata": {},
   "outputs": [],
   "source": [
    "AWS_ACCESS_KEY = os.environ['AWS_ACCESS_KEY_ID']\n",
    "AWS_SECRET_KEY = os.environ['AWS_SECRET_ACCESS_KEY']\n",
    "region = 'us-east-2'\n",
    "service = 'es'\n",
    "\n",
    "awsauth = AWS4Auth(AWS_ACCESS_KEY, AWS_SECRET_KEY, region, service)\n",
    "\n",
    "host = 'search-restaurants-3o36qc56ks6wx2a727x7zhzxyi.us-east-2.es.amazonaws.com'\n",
    "es = Elasticsearch(\n",
    "    hosts = [{\"host\":host, 'port':443}],\n",
    "    http_auth = awsauth,\n",
    "    use_ssl = True,\n",
    "    verify_certs = True,\n",
    "    connection_class = RequestsHttpConnection\n",
    "    )\n",
    "\n",
    "for idx, rest in enumerate(rest_tuple):\n",
    "    body={\n",
    "        \"business_id\":rest[0],\n",
    "        \"cuisine\": rest[1]}\n",
    "    es.index(index='restaurants',doc_type='Restaurant',id=idx,body=body)"
   ]
  },
  {
   "cell_type": "code",
   "execution_count": 22,
   "metadata": {},
   "outputs": [
    {
     "name": "stdout",
     "output_type": "stream",
     "text": [
      "[{'_index': 'yelp-restaurant', '_type': 'Restaurant', '_id': '311', '_score': 2.0279596, '_source': {'business_id': 'GCAQmtRdNhqVit5KGJ46Qg', 'cuisine': 'American'}}, {'_index': 'yelp-restaurant', '_type': 'Restaurant', '_id': '88', '_score': 2.0279596, '_source': {'business_id': 'NavBPhyeykbve1uVSOrDPg', 'cuisine': 'American'}}, {'_index': 'yelp-restaurant', '_type': 'Restaurant', '_id': '91', '_score': 2.0279596, '_source': {'business_id': '6ujYWjs1FTksvuVxuzjUYA', 'cuisine': 'American'}}, {'_index': 'yelp-restaurant', '_type': 'Restaurant', '_id': '257', '_score': 2.0279596, '_source': {'business_id': 'aSbrPkclNZXBtA2k69Agsw', 'cuisine': 'American'}}, {'_index': 'yelp-restaurant', '_type': 'Restaurant', '_id': '128', '_score': 2.0279596, '_source': {'business_id': '-SM_BQ5jiqvot_kl7RKoaQ', 'cuisine': 'American'}}, {'_index': 'yelp-restaurant', '_type': 'Restaurant', '_id': '338', '_score': 2.0279596, '_source': {'business_id': 'ECbvfMyJMd2SpNRb_01I5A', 'cuisine': 'American'}}, {'_index': 'yelp-restaurant', '_type': 'Restaurant', '_id': '217', '_score': 2.0279596, '_source': {'business_id': 'szyoiJXuX8shNnsm8-Bffg', 'cuisine': 'American'}}, {'_index': 'yelp-restaurant', '_type': 'Restaurant', '_id': '1203', '_score': 2.0279596, '_source': {'business_id': 'FHMMwIk0ynfEvVdhMgc0Lw', 'cuisine': 'American'}}, {'_index': 'yelp-restaurant', '_type': 'Restaurant', '_id': '1222', '_score': 2.0279596, '_source': {'business_id': 'aXPvbifX51u27Ls4gzftZw', 'cuisine': 'American'}}, {'_index': 'yelp-restaurant', '_type': 'Restaurant', '_id': '1138', '_score': 2.0279596, '_source': {'business_id': 'JYNBy2r3LVhJbLHE1bASfg', 'cuisine': 'American'}}]\n"
     ]
    }
   ],
   "source": [
    "credentials = boto3.Session().get_credentials()\n",
    "region = 'us-east-2'\n",
    "service = 'es'\n",
    "awsauth = AWS4Auth(credentials.access_key, credentials.secret_key, region, service, session_token=credentials.token)\n",
    "\n",
    "\n",
    "host = 'search-restaurants-3o36qc56ks6wx2a727x7zhzxyi.us-east-2.es.amazonaws.com'\n",
    "es = Elasticsearch(hosts=[{\"host\": host, 'port': 443}],\n",
    "                   http_auth = awsauth,\n",
    "                   use_ssl=True,\n",
    "                   verify_certs=True,\n",
    "                   connection_class=RequestsHttpConnection)\n",
    "res = es.search(index=\"restaurants\",\n",
    "                body={\"query\": {\"match\": {\"cuisine\": cuisine}}})\n",
    "\n",
    "try:\n",
    "    raw_result = res[\"hits\"][\"hits\"]\n",
    "    print(raw_result)\n",
    "except KeyError:\n",
    "    print(\"Error extracting hits from ES response\")\n",
    "\n",
    "all_res_ids = []\n",
    "for res in raw_result:\n",
    "    all_res_ids.append(res[\"_source\"][\"business_id\"])"
   ]
  },
  {
   "cell_type": "code",
   "execution_count": 26,
   "metadata": {},
   "outputs": [
    {
     "data": {
      "text/plain": [
       "{'acknowledged': True}"
      ]
     },
     "execution_count": 26,
     "metadata": {},
     "output_type": "execute_result"
    }
   ],
   "source": [
    "es.indices.delete(index='restaurants')"
   ]
  }
 ],
 "metadata": {
  "file_extension": ".py",
  "kernelspec": {
   "display_name": "Python 3",
   "language": "python",
   "name": "python3"
  },
  "language_info": {
   "codemirror_mode": {
    "name": "ipython",
    "version": 3
   },
   "file_extension": ".py",
   "mimetype": "text/x-python",
   "name": "python",
   "nbconvert_exporter": "python",
   "pygments_lexer": "ipython3",
   "version": "3.7.4"
  },
  "mimetype": "text/x-python",
  "name": "python",
  "npconvert_exporter": "python",
  "pygments_lexer": "ipython3",
  "version": 3
 },
 "nbformat": 4,
 "nbformat_minor": 2
}